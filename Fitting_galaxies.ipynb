{
 "cells": [
  {
   "cell_type": "code",
   "execution_count": null,
   "id": "a5d69d06",
   "metadata": {},
   "outputs": [],
   "source": [
    "import ipynb\n",
    "#Importing all the modules from that file\n",
    "\n",
    "#from ipynb.fs.full.Imports import *\n",
    "from ipynb.fs.full.Project_functions import *\n",
    "os.environ['SAS_BASE_DIR'] = '/global/cfs/cdirs/sdss/data/sdss' # this is to access the datacubes  locally\n",
    "path='/global/homes/m/marta_r/_Multiprocessing/Getting_the_bins/Bin_4.csv'\n",
    "\n",
    "i_obs=0 #Here we define what galaxy in the file we want to look at. This can be iterated over\n",
    "the_data=pd.read_csv(path)\n",
    "radius=np.asarray(the_data['radius'].tolist())\n",
    "ifu_pl=np.asarray(the_data['Spectra'].tolist())\n",
    "red=np.asarray(the_data['redhsift'].tolist())\n",
    "plate_size=np.asarray(the_data['max'].tolist())\n",
    "ratios=the_data['nsa_elpetro_ba'].tolist(); angles=the_data['nsa_elpetro_phi'].tolist()\n",
    "cube = Cube(plateifu=ifu_pl[i_obs]) #data cube corresponding to that galaxy\n",
    "zred=red[i_obs]\n",
    "rads=radius[i_obs]; angle=angles[i_obs]; b=ratios[i_obs]*radius[i_obs] #Major axis, position angle, minor axis\n",
    "rx=Ellipse_(rads,b,angle)[0] #Ellipse function to get the x values for the correspondong spaxels \n",
    "ry=Ellipse_(rads,b,angle)[1] #Ellipse function to get the y values for the correspondong spaxels \n",
    "count=0\n",
    "flux_val=[]\n",
    "ivar_val=[]\n",
    "for j in range(len(rx)):\n",
    "    spaxel = cube.getSpaxel(rx[count],ry[count]) #Getting the spaxels in an ellipse format\n",
    "    wave=MaNGa_bad_wave(spaxel.flux.wavelength)[0] #Spaxel wavelength, MaNGa_bad_wave to remove the emission lines\n",
    "    bad_len=MaNGa_bad_wave(spaxel.flux.wavelength)[1] #MaNGa_bad_wave[1] corresponds to the wavelenths that will\n",
    "    #not be used here because they are greater than the DESI wavelentgth limit.\n",
    "    flux_val.append(spaxel.flux.value[: len(spaxel.flux.value) - len(bad_len)]) #removing the flux values corresponding\n",
    "    #to the bad wavelengths \n",
    "    ivar_val.append(spaxel.flux.ivar [: len(spaxel.flux.ivar ) - len(bad_len)] )\n",
    "    count=count+1\n",
    "flux=sum_quantities(flux_val) #this is to add the fluxes, so that we get the combined spectra \n",
    "ivar=sum_quantities(ivar_val)\n",
    "\n",
    "use_flux, use_wave, use_ivar=masked_(wave,flux,ivar,zred)[1], masked_(wave,flux,ivar,zred)[0], masked_(wave,flux,ivar,zred)[2]\n",
    "#the line above uses masked_ function to get the Wavelength, flux and ivar in the right format to be fitted\n",
    "mass=mcmc_run(use_wave, use_flux, use_ivar, zred)[0]\n",
    "mass_err=mcmc_run(use_wave, use_flux, use_ivar, zred)[1]\n",
    "ssfr=mcmc_run(use_wave, use_flux, use_ivar, zred)[2] #this is specific star formation rate\n",
    "ssfr_err=mcmc_run(use_wave, use_flux, use_ivar, zred)[3]\n",
    "zw=mcmc_run(use_wave, use_flux, use_ivar, zred)[4]\n",
    "zw_err=mcmc_run(use_wave, use_flux, use_ivar, zred)[5]\n",
    "age=mcmc_run(use_wave, use_flux, use_ivar, zred)[6]\n",
    "age_err=mcmc_run(use_wave, use_flux, use_ivar, zred)[7]\n",
    "t_lookback=mcmc_run(use_wave, use_flux, use_ivar, zred)[8]\n",
    "sfh=mcmc_run(use_wave, use_flux, use_ivar, zred)[9]\n",
    "zh=mcmc_run(use_wave, use_flux, use_ivar, zred)[10]\n"
   ]
  }
 ],
 "metadata": {
  "kernelspec": {
   "display_name": "Python 3 (ipykernel)",
   "language": "python",
   "name": "python3"
  },
  "language_info": {
   "codemirror_mode": {
    "name": "ipython",
    "version": 3
   },
   "file_extension": ".py",
   "mimetype": "text/x-python",
   "name": "python",
   "nbconvert_exporter": "python",
   "pygments_lexer": "ipython3",
   "version": "3.8.3"
  }
 },
 "nbformat": 4,
 "nbformat_minor": 5
}
